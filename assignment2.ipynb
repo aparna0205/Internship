{
 "cells": [
  {
   "cell_type": "markdown",
   "id": "138e05b5",
   "metadata": {},
   "source": [
    "Question 1- Write a Python program to replace all occurrences of a space, comma, or dot with a\n",
    "colon.\n",
    "Sample Text- &#39;Python Exercises, PHP exercises.&#39;\n",
    "Expected Output: Python:Exercises::PHP:exercises:"
   ]
  },
  {
   "cell_type": "code",
   "execution_count": 2,
   "id": "d5d1d329",
   "metadata": {},
   "outputs": [],
   "source": [
    "import regex as re\n"
   ]
  },
  {
   "cell_type": "code",
   "execution_count": 8,
   "id": "f736ebed",
   "metadata": {},
   "outputs": [
    {
     "name": "stdout",
     "output_type": "stream",
     "text": [
      "Python:Exercises::PHP:exercises:\n"
     ]
    }
   ],
   "source": [
    "txt='Python Exercises, PHP exercises.'\n",
    "x= re.sub(\"[ ,.]\",\":\",txt)\n",
    "print(x)\n"
   ]
  },
  {
   "cell_type": "markdown",
   "id": "4de9a789",
   "metadata": {},
   "source": [
    "Question 2- Write a Python program to find all words starting with &#39;a&#39; or &#39;e&#39; in a given string."
   ]
  },
  {
   "cell_type": "code",
   "execution_count": 9,
   "id": "977a4d35",
   "metadata": {},
   "outputs": [
    {
     "name": "stdout",
     "output_type": "stream",
     "text": [
      "['apple', 'ay', 'eeps', 'away']\n"
     ]
    }
   ],
   "source": [
    "txt='An apple a day, keeps the doctor away'\n",
    "x= re.findall(\"[ae]\\w+\",txt)\n",
    "print(x)"
   ]
  },
  {
   "cell_type": "markdown",
   "id": "f90543de",
   "metadata": {},
   "source": [
    "Question 3- Create a function in python to find all words that are at least 4 characters long in a\n",
    "string. The use of the re.compile() method is mandatory."
   ]
  },
  {
   "cell_type": "code",
   "execution_count": 23,
   "id": "4b89566a",
   "metadata": {},
   "outputs": [],
   "source": [
    "import re\n",
    "\n",
    "def find_long_words(string):\n",
    "    \n",
    "    pattern = re.compile(r'\\b\\w{4,}\\b')\n",
    "    matches = re.findall(pattern, string)\n",
    "    return matches\n"
   ]
  },
  {
   "cell_type": "code",
   "execution_count": 25,
   "id": "85d0370f",
   "metadata": {},
   "outputs": [
    {
     "data": {
      "text/plain": [
       "['quick', 'brown', 'jumps', 'does', 'walk']"
      ]
     },
     "execution_count": 25,
     "metadata": {},
     "output_type": "execute_result"
    }
   ],
   "source": [
    "find_long_words(\"A quick brown fox jumps and does not walk\")"
   ]
  },
  {
   "cell_type": "markdown",
   "id": "40047c73",
   "metadata": {},
   "source": [
    "Question 4- Create a function in python to find all three, four, and five character words in a string.\n",
    "The use of the re.compile() method is mandatory."
   ]
  },
  {
   "cell_type": "code",
   "execution_count": 26,
   "id": "b7259c50",
   "metadata": {},
   "outputs": [],
   "source": [
    "import re\n",
    "\n",
    "def find_words(string):\n",
    "    \n",
    "    pattern = re.compile(r'\\b\\w{3,5}\\b')\n",
    "\n",
    "    matches = re.findall(pattern, string)\n",
    "\n",
    "    return matches\n",
    "\n"
   ]
  },
  {
   "cell_type": "code",
   "execution_count": 27,
   "id": "85d97d00",
   "metadata": {},
   "outputs": [
    {
     "name": "stdout",
     "output_type": "stream",
     "text": [
      "['This', 'with', 'some', 'words']\n"
     ]
    }
   ],
   "source": [
    "input_string = \"This is a sample string with some words of different lengths.\"\n",
    "result = find_words(input_string)\n",
    "print(result)\n"
   ]
  },
  {
   "cell_type": "markdown",
   "id": "065c9c31",
   "metadata": {},
   "source": [
    "Question 5- Create a function in Python to remove the parenthesis in a list of strings. The use of the\n",
    "re.compile() method is mandatory.\n",
    "Sample Text: [&quot;example (.com)&quot;, &quot;hr@fliprobo (.com)&quot;, &quot;github (.com)&quot;, &quot;Hello (Data Science World)&quot;,\n",
    "&quot;Data (Scientist)&quot;]\n",
    "Expected Output:\n",
    "example.com\n",
    "hr@fliprobo.com\n",
    "github.com\n",
    "Hello Data Science World\n",
    "Data Scientist"
   ]
  },
  {
   "cell_type": "code",
   "execution_count": 28,
   "id": "0524ce23",
   "metadata": {},
   "outputs": [
    {
     "name": "stdout",
     "output_type": "stream",
     "text": [
      "example \n",
      "hr@fliprobo \n",
      "github \n",
      "Hello \n",
      "Data \n"
     ]
    }
   ],
   "source": [
    "import re\n",
    "\n",
    "def remove_parenthesis(strings):\n",
    "    \n",
    "    pattern = re.compile(r'\\((.*?)\\)')\n",
    "    for i in range(len(strings)):\n",
    "        strings[i] = re.sub(pattern, '', strings[i])\n",
    "\n",
    "    return strings\n",
    "\n",
    "strings = [\"example (.com)\", \"hr@fliprobo (.com)\", \"github (.com)\", \"Hello (Data Science World)\", \"Data (Scientist)\"]\n",
    "\n",
    "output = remove_parenthesis(strings)\n",
    "\n",
    "for string in output:\n",
    "    print(string)\n",
    "\n"
   ]
  },
  {
   "cell_type": "markdown",
   "id": "79b812b6",
   "metadata": {},
   "source": [
    "Question 6- Write a python program to remove the parenthesis area from the text stored in the text\n",
    "file using Regular Expression.\n",
    "Sample Text: [&quot;example (.com)&quot;, &quot;hr@fliprobo (.com)&quot;, &quot;github (.com)&quot;, &quot;Hello (Data Science World)&quot;,\n",
    "&quot;Data (Scientist)&quot;]\n",
    "\n",
    "Expected Output: [&quot;example&quot;, &quot;hr@fliprobo&quot;, &quot;github&quot;, &quot;Hello&quot;, &quot;Data&quot;]\n",
    "Note- Store given sample text in the text file and then to remove the parenthesis area from the text."
   ]
  },
  {
   "cell_type": "code",
   "execution_count": 126,
   "id": "0fb95efd",
   "metadata": {},
   "outputs": [
    {
     "name": "stdout",
     "output_type": "stream",
     "text": [
      "\"example \", \"hr@fliprobo \", \"github \", \"Hello \", \"Data \"]\n"
     ]
    }
   ],
   "source": [
    "def remove_parentheses(text):\n",
    "    pattern = re.compile(r'\\([^)]*\\)')\n",
    "    return pattern.sub('', text)\n",
    "\n",
    "with open('myassignment.txt', 'r') as file:\n",
    "    text_lines = file.readlines()\n",
    "\n",
    "modified_lines = [remove_parentheses(line) for line in text_lines]\n",
    "\n",
    "\n",
    "with open('sample_text.txt', 'w') as file:\n",
    "    file.writelines(modified_lines)\n",
    "\n",
    "for line in modified_lines:\n",
    "    print(line.strip())"
   ]
  },
  {
   "cell_type": "markdown",
   "id": "c2ebd2a6",
   "metadata": {},
   "source": [
    "Question 7- Write a regular expression in Python to split a string into uppercase letters.\n",
    "Sample text: “ImportanceOfRegularExpressionsInPython”\n",
    "Expected Output: [‘Importance’, ‘Of’, ‘Regular’, ‘Expression’, ‘In’, ‘Python’]"
   ]
  },
  {
   "cell_type": "code",
   "execution_count": 122,
   "id": "ad3ec194",
   "metadata": {},
   "outputs": [
    {
     "name": "stdout",
     "output_type": "stream",
     "text": [
      "['Importance', 'Of', 'Regular', 'Expressions', 'In', 'Python']\n"
     ]
    }
   ],
   "source": [
    "text = \"ImportanceOfRegularExpressionsInPython\"\n",
    "pattern = r'[A-Z][a-z]*'\n",
    "result=re.findall(pattern,text)\n",
    "\n",
    "print(result)"
   ]
  },
  {
   "cell_type": "markdown",
   "id": "6e510542",
   "metadata": {},
   "source": [
    "Question 8- Create a function in python to insert spaces between words starting with numbers.\n",
    "Sample Text: “RegularExpression1IsAn2ImportantTopic3InPython&quot;\n",
    "Expected Output: RegularExpression 1IsAn 2ImportantTopic 3InPython"
   ]
  },
  {
   "cell_type": "code",
   "execution_count": 57,
   "id": "e52835ee",
   "metadata": {},
   "outputs": [
    {
     "name": "stdout",
     "output_type": "stream",
     "text": [
      "RegularExpression1 IsAn2 ImportantTopic3 InPython\n"
     ]
    }
   ],
   "source": [
    "text = \"RegularExpression1IsAn2ImportantTopic3InPython\"\n",
    "result = re.sub(r'(\\d)([A-Za-z])',r'\\1 \\2', text)\n",
    "print(result)"
   ]
  },
  {
   "cell_type": "markdown",
   "id": "7d86eca8",
   "metadata": {},
   "source": [
    "Question 9- Create a function in python to insert spaces between words starting with capital letters\n",
    "or with numbers.\n",
    "Sample Text: “RegularExpression1IsAn2ImportantTopic3InPython&quot;\n",
    "Expected Output: RegularExpression 1 IsAn 2 ImportantTopic 3 InPython"
   ]
  },
  {
   "cell_type": "code",
   "execution_count": 123,
   "id": "ab93c536",
   "metadata": {},
   "outputs": [
    {
     "name": "stdout",
     "output_type": "stream",
     "text": [
      "RegularExpression1 IsAn2 ImportantTopic3 InPython\n"
     ]
    }
   ],
   "source": [
    "def insert_spaces(text):\n",
    "    \n",
    "    modified_text = re.sub(r'(?<=[A-Z0-9])(?=[A-Z])', ' ', text)\n",
    "    return modified_text\n",
    "\n",
    "text = \"RegularExpression1IsAn2ImportantTopic3InPython\"\n",
    "\n",
    "result = insert_spaces(text)\n",
    "\n",
    "print(result)\n"
   ]
  },
  {
   "cell_type": "markdown",
   "id": "6abfd65d",
   "metadata": {},
   "source": [
    "Question 10- Write a python program to extract email address from the text stored in the text file\n",
    "using Regular Expression.\n",
    "Sample Text- Hello my name is Data Science and my email address is xyz@domain.com and alternate\n",
    "email address is xyz.abc@sdomain.domain.com.\n",
    "Please contact us at hr@fliprobo.com for further information.\n",
    "Expected Output:\n",
    "[&#39;xyz@domain.com&#39;, &#39;xyz.abc@sdomain.domain.com&#39;]\n",
    "[&#39;hr@fliprobo.com&#39;]\n",
    "\n",
    "Note- Store given sample text in the text file and then extract email addresses."
   ]
  },
  {
   "cell_type": "code",
   "execution_count": 62,
   "id": "fd6e6c73",
   "metadata": {},
   "outputs": [
    {
     "name": "stdout",
     "output_type": "stream",
     "text": [
      "['xyz@domain.com']\n",
      "['xyz.abc@sdomain.domain.com']\n",
      "['hr@fliprobo.com']\n"
     ]
    }
   ],
   "source": [
    "with open(\"myassignment.txt\") as file:\n",
    "    for line in file:\n",
    "        pattern=r'\\b[A-Za-z0-9._%+-]+@[A-Za-z0-9.-]+\\.[A-Z|a-z]{2,7}\\b'\n",
    "        urls=re.findall(pattern,line)\n",
    "        print(urls)\n"
   ]
  },
  {
   "cell_type": "markdown",
   "id": "532509aa",
   "metadata": {},
   "source": [
    "Question 11- Write a Python program to match a string that contains only upper and lowercase\n",
    "letters, numbers, and underscores."
   ]
  },
  {
   "cell_type": "code",
   "execution_count": 67,
   "id": "ed735892",
   "metadata": {},
   "outputs": [
    {
     "name": "stdout",
     "output_type": "stream",
     "text": [
      "None\n"
     ]
    }
   ],
   "source": [
    "text= \"I NEED HELP\"\n",
    "pattern=r'^[a-zA-Z0-9_]+$'\n",
    "result=re.match(pattern,text)\n",
    "print(result)"
   ]
  },
  {
   "cell_type": "markdown",
   "id": "8c9ba6d7",
   "metadata": {},
   "source": [
    "Question 12- Write a Python program where a string will start with a specific number."
   ]
  },
  {
   "cell_type": "code",
   "execution_count": 68,
   "id": "a4bc8a65",
   "metadata": {},
   "outputs": [
    {
     "name": "stdout",
     "output_type": "stream",
     "text": [
      "True\n",
      "False\n"
     ]
    }
   ],
   "source": [
    "def match_num(string):\n",
    "    text = re.compile(r\"^5\")\n",
    "    if text.match(string):\n",
    "        return True\n",
    "    else:\n",
    "        return False\n",
    "print(match_num('5-2345861'))\n",
    "print(match_num('6-2345861'))\n"
   ]
  },
  {
   "cell_type": "markdown",
   "id": "3a4f8975",
   "metadata": {},
   "source": [
    "Question 13- Write a Python program to remove leading zeros from an IP address"
   ]
  },
  {
   "cell_type": "code",
   "execution_count": 69,
   "id": "50466a4b",
   "metadata": {},
   "outputs": [
    {
     "name": "stdout",
     "output_type": "stream",
     "text": [
      "216.8.94.196\n"
     ]
    }
   ],
   "source": [
    "ip = \"216.08.094.196\"\n",
    "string = re.sub('\\.[0]*', '.', ip)\n",
    "print(string)\n"
   ]
  },
  {
   "cell_type": "markdown",
   "id": "b2503708",
   "metadata": {},
   "source": [
    "Question 14- Write a regular expression in python to match a date string in the form of Month name\n",
    "followed by day number and year stored in a text file.\n",
    "Sample text : &#39; On August 15th 1947 that India was declared independent from British colonialism, and\n",
    "the reins of control were handed over to the leaders of the Country’.\n",
    "Expected Output- August 15th 1947\n",
    "Note- Store given sample text in the text file and then extract the date string asked format."
   ]
  },
  {
   "cell_type": "code",
   "execution_count": 70,
   "id": "ff96014f",
   "metadata": {},
   "outputs": [
    {
     "name": "stdout",
     "output_type": "stream",
     "text": [
      "August 15th 1947\n"
     ]
    }
   ],
   "source": [
    "with open('myassignment.txt', 'r') as file:\n",
    "    text = file.read()\n",
    "\n",
    "pattern = r'\\b([A-Z][a-z]+ \\d{1,2}(?:st|nd|rd|th)? \\d{4})\\b'\n",
    "\n",
    "matches = re.findall(pattern, text)\n",
    "\n",
    "for match in matches:\n",
    "    print(match)"
   ]
  },
  {
   "cell_type": "markdown",
   "id": "24c0e0fd",
   "metadata": {},
   "source": [
    "Question 15- Write a Python program to search some literals strings in a string.\n",
    "Sample text : &#39;The quick brown fox jumps over the lazy dog.&#39;\n",
    "Searched words : &#39;fox&#39;, &#39;dog&#39;, &#39;horse&#39;"
   ]
  },
  {
   "cell_type": "code",
   "execution_count": 72,
   "id": "6d41abcf",
   "metadata": {},
   "outputs": [
    {
     "name": "stdout",
     "output_type": "stream",
     "text": [
      "Searching for \"fox\" in \"The quick brown fox jumps over the lazy dog.\" ->\n",
      "Matched!\n",
      "Searching for \"dog\" in \"The quick brown fox jumps over the lazy dog.\" ->\n",
      "Matched!\n",
      "Searching for \"horse\" in \"The quick brown fox jumps over the lazy dog.\" ->\n",
      "Not Matched!\n"
     ]
    }
   ],
   "source": [
    "patterns = [ 'fox', 'dog', 'horse' ]\n",
    "text = 'The quick brown fox jumps over the lazy dog.'\n",
    "for pattern in patterns:\n",
    "    print('Searching for \"%s\" in \"%s\" ->' % (pattern, text),)\n",
    "    if re.search(pattern,  text):\n",
    "        print('Matched!')\n",
    "    else:\n",
    "        print('Not Matched!')"
   ]
  },
  {
   "cell_type": "markdown",
   "id": "bbd08bb0",
   "metadata": {},
   "source": [
    "Question 16- Write a Python program to search a literals string in a string and also find the location\n",
    "within the original string where the pattern occurs\n",
    "Sample text : &#39;The quick brown fox jumps over the lazy dog.&#39;\n",
    "Searched words : &#39;fox&#39;"
   ]
  },
  {
   "cell_type": "code",
   "execution_count": 74,
   "id": "f967e0d5",
   "metadata": {},
   "outputs": [
    {
     "name": "stdout",
     "output_type": "stream",
     "text": [
      "Found \"fox\" in \"The quick brown fox jumps over the lazy dog.\" from 16 to 19 \n"
     ]
    }
   ],
   "source": [
    "pattern = 'fox'\n",
    "text = 'The quick brown fox jumps over the lazy dog.'\n",
    "match = re.search(pattern, text)\n",
    "s = match.start()\n",
    "e = match.end()\n",
    "print('Found \"%s\" in \"%s\" from %d to %d ' % \\\n",
    "    (match.re.pattern, match.string, s, e))"
   ]
  },
  {
   "cell_type": "markdown",
   "id": "0e4d251a",
   "metadata": {},
   "source": [
    "Question 17- Write a Python program to find the substrings within a string.\n",
    "Sample text : &#39;Python exercises, PHP exercises, C# exercises&#39;\n",
    "Pattern : &#39;exercises&#39;."
   ]
  },
  {
   "cell_type": "code",
   "execution_count": 77,
   "id": "9468fd3b",
   "metadata": {},
   "outputs": [
    {
     "name": "stdout",
     "output_type": "stream",
     "text": [
      "Found \"exercises\"\n",
      "Found \"exercises\"\n",
      "Found \"exercises\"\n"
     ]
    }
   ],
   "source": [
    "text = 'Python exercises, PHP exercises, C# exercises'\n",
    "pattern = 'exercises'\n",
    "for match in re.findall(pattern, text):\n",
    "    print('Found \"%s\"' % match)"
   ]
  },
  {
   "cell_type": "markdown",
   "id": "2cdb8a07",
   "metadata": {},
   "source": [
    "Question 18- Write a Python program to find the occurrence and position of the substrings within a\n",
    "string."
   ]
  },
  {
   "cell_type": "code",
   "execution_count": 78,
   "id": "87b42c7c",
   "metadata": {},
   "outputs": [
    {
     "name": "stdout",
     "output_type": "stream",
     "text": [
      "Found \"exercises\" at 7:16\n",
      "Found \"exercises\" at 22:31\n",
      "Found \"exercises\" at 36:45\n"
     ]
    }
   ],
   "source": [
    "text = 'Python exercises, PHP exercises, C# exercises'\n",
    "pattern = 'exercises'\n",
    "for match in re.finditer(pattern, text):\n",
    "    s = match.start()\n",
    "    e = match.end()\n",
    "    print('Found \"%s\" at %d:%d' % (text[s:e], s, e))"
   ]
  },
  {
   "cell_type": "markdown",
   "id": "e6cacc6c",
   "metadata": {},
   "source": [
    "Question 19- Write a Python program to convert a date of yyyy-mm-dd format to dd-mm-yyyy\n",
    "format."
   ]
  },
  {
   "cell_type": "code",
   "execution_count": 79,
   "id": "4c9413e9",
   "metadata": {},
   "outputs": [
    {
     "name": "stdout",
     "output_type": "stream",
     "text": [
      "Original date in YYY-MM-DD Format:  2026-01-02\n",
      "New date in DD-MM-YYYY Format:  02-01-2026\n"
     ]
    }
   ],
   "source": [
    "def change_date_format(dt):\n",
    "        return re.sub(r'(\\d{4})-(\\d{1,2})-(\\d{1,2})', '\\\\3-\\\\2-\\\\1', dt)\n",
    "dt1 = \"2026-01-02\"\n",
    "print(\"Original date in YYY-MM-DD Format: \",dt1)\n",
    "print(\"New date in DD-MM-YYYY Format: \",change_date_format(dt1))"
   ]
  },
  {
   "cell_type": "markdown",
   "id": "11e76646",
   "metadata": {},
   "source": [
    "Question 20- Create a function in python to find all decimal numbers with a precision of 1 or 2 in a\n",
    "string. The use of the re.compile() method is mandatory.\n",
    "Sample Text: &quot;01.12 0132.123 2.31875 145.8 3.01 27.25 0.25&quot;\n",
    "Expected Output: [&#39;01.12&#39;, &#39;145.8&#39;, &#39;3.01&#39;, &#39;27.25&#39;, &#39;0.25&#39;]"
   ]
  },
  {
   "cell_type": "code",
   "execution_count": 80,
   "id": "85bda4ab",
   "metadata": {},
   "outputs": [
    {
     "name": "stdout",
     "output_type": "stream",
     "text": [
      "Found decimal numbers: ['01.12', '145.8', '3.01', '27.25', '0.25']\n"
     ]
    }
   ],
   "source": [
    "def find_decimal_numbers(text):\n",
    "    pattern = re.compile(r'\\b\\d+\\.\\d{1,2}\\b')\n",
    "    decimal_numbers = pattern.findall(text)\n",
    "    return decimal_numbers\n",
    "\n",
    "sample_text = \"01.12 0132.123 2.31875 145.8 3.01 27.25 0.25\"\n",
    "\n",
    "found_decimal_numbers = find_decimal_numbers(sample_text)\n",
    "\n",
    "if len(found_decimal_numbers) > 0:\n",
    "    print(\"Found decimal numbers:\", found_decimal_numbers)\n",
    "else:\n",
    "    print(\"No decimal numbers found in the text.\")"
   ]
  },
  {
   "cell_type": "markdown",
   "id": "182ba352",
   "metadata": {},
   "source": [
    "Question 21- Write a Python program to separate and print the numbers and their position of a\n",
    "given string."
   ]
  },
  {
   "cell_type": "code",
   "execution_count": 84,
   "id": "9a4814d9",
   "metadata": {},
   "outputs": [
    {
     "name": "stdout",
     "output_type": "stream",
     "text": [
      "50\n",
      "Index position: 22\n",
      "35\n",
      "Index position: 48\n"
     ]
    }
   ],
   "source": [
    "text = \"The apples are for Rs 50 and bananas are for Rs 35.\"\n",
    "\n",
    "for m in re.finditer(\"\\d+\", text):\n",
    "    print(m.group(0))\n",
    "    print(\"Index position:\", m.start())\n"
   ]
  },
  {
   "cell_type": "markdown",
   "id": "14e3c243",
   "metadata": {},
   "source": [
    "Question 22- Write a regular expression in python program to extract maximum/largest numeric\n",
    "value from a string.\n",
    "Sample Text: &#39;My marks in each semester are: 947, 896, 926, 524, 734, 950, 642&#39;\n",
    "Expected Output: 950"
   ]
  },
  {
   "cell_type": "code",
   "execution_count": 87,
   "id": "48cafe34",
   "metadata": {},
   "outputs": [
    {
     "name": "stdout",
     "output_type": "stream",
     "text": [
      "The maximum numeric value is: 950\n"
     ]
    }
   ],
   "source": [
    "import re\n",
    "\n",
    "def extract_max_numeric_value(text):\n",
    "    \n",
    "    numeric_values = re.findall(r'\\d+', text)\n",
    "    \n",
    "    if numeric_values:\n",
    "        max_value = max(map(int, numeric_values))\n",
    "        return max_value\n",
    "    else:\n",
    "        return None\n",
    "\n",
    "sample_text ='My marks in each semester are: 947, 896, 926, 524, 734, 950, 642'\n",
    "\n",
    "max_numeric_value = extract_max_numeric_value(sample_text)\n",
    "\n",
    "if max_numeric_value is not None:\n",
    "    print(f\"The maximum numeric value is: {max_numeric_value}\")\n",
    "else:\n",
    "    print(\"No numeric values found in the text.\")\n"
   ]
  },
  {
   "cell_type": "markdown",
   "id": "d338fdcc",
   "metadata": {},
   "source": [
    "Question 23- Create a function in python to insert spaces between words starting with capital\n",
    "letters.\n",
    "Sample Text: “RegularExpressionIsAnImportantTopicInPython&quot;\n",
    "Expected Output: Regular Expression Is An Important Topic In Python"
   ]
  },
  {
   "cell_type": "code",
   "execution_count": 89,
   "id": "599a4a09",
   "metadata": {},
   "outputs": [
    {
     "name": "stdout",
     "output_type": "stream",
     "text": [
      "Modified Text: Regular Expression Is An Important Topic In Python\n"
     ]
    }
   ],
   "source": [
    "def insert_spaces(text):\n",
    "    modified_text = re.sub(r'(?<!^)(?=[A-Z])', ' ', text)\n",
    "    return modified_text\n",
    "\n",
    "text = \"RegularExpressionIsAnImportantTopicInPython\"\n",
    "\n",
    "modified_text = insert_spaces(text)\n",
    "\n",
    "print(\"Modified Text:\", modified_text)"
   ]
  },
  {
   "cell_type": "markdown",
   "id": "1e7f0fa0",
   "metadata": {},
   "source": [
    "Question 24- Python regex to find sequences of one upper case letter followed by lower case letters"
   ]
  },
  {
   "cell_type": "code",
   "execution_count": 92,
   "id": "5b7c68ea",
   "metadata": {},
   "outputs": [
    {
     "name": "stdout",
     "output_type": "stream",
     "text": [
      "['Regular', 'Expression', 'Is', 'An', 'Important', 'Topic', 'In', 'Python']\n"
     ]
    }
   ],
   "source": [
    "text=\"RegularExpressionIsAnImportantTopicInPython\"\n",
    "pattern= r'[A-Z][a-z]+'\n",
    "result=re.findall(pattern,text)\n",
    "print(result)"
   ]
  },
  {
   "cell_type": "markdown",
   "id": "3da5142a",
   "metadata": {},
   "source": [
    "Question 25- Write a Python program to remove continuous duplicate words from Sentence using\n",
    "Regular Expression.\n",
    "Sample Text: &quot;Hello hello world world&quot;\n",
    "Expected Output: Hello hello world"
   ]
  },
  {
   "cell_type": "code",
   "execution_count": 110,
   "id": "561911cf",
   "metadata": {},
   "outputs": [
    {
     "name": "stdout",
     "output_type": "stream",
     "text": [
      "Hello hello world\n"
     ]
    }
   ],
   "source": [
    "text = \"Hello hello world world\"\n",
    "pattern= r'\\b(\\w+)(?:\\W+\\1\\b)+'\n",
    "x=re.sub (pattern, r'\\1', text) \n",
    "print (x)"
   ]
  },
  {
   "cell_type": "markdown",
   "id": "530d65d8",
   "metadata": {},
   "source": [
    "Question 26- Write a python program using RegEx to accept string ending with alphanumeric\n",
    "character."
   ]
  },
  {
   "cell_type": "code",
   "execution_count": 111,
   "id": "b526e6f9",
   "metadata": {},
   "outputs": [
    {
     "name": "stdout",
     "output_type": "stream",
     "text": [
      "<re.Match object; span=(31, 32), match='7'>\n"
     ]
    }
   ],
   "source": [
    "text='My marks in each semester are947'\n",
    "pattern=r\"\\w$\"\n",
    "match=re.search(pattern,text)\n",
    "print(match)"
   ]
  },
  {
   "cell_type": "markdown",
   "id": "a2857ac7",
   "metadata": {},
   "source": [
    "Question 27-Write a python program using RegEx to extract the hashtags.\n",
    "Sample Text: &quot;&quot;&quot;RT @kapil_kausik: #Doltiwal I mean #xyzabc is &quot;hurt&quot; by #Demonetization as the same\n",
    "has rendered USELESS &lt;ed&gt;&lt;U+00A0&gt;&lt;U+00BD&gt;&lt;ed&gt;&lt;U+00B1&gt;&lt;U+0089&gt; &quot;acquired funds&quot; No wo&quot;&quot;&quot;\n",
    "Expected Output: [&#39;#Doltiwal&#39;, &#39;#xyzabc&#39;, &#39;#Demonetization&#39;]"
   ]
  },
  {
   "cell_type": "code",
   "execution_count": 112,
   "id": "9199557d",
   "metadata": {},
   "outputs": [
    {
     "name": "stdout",
     "output_type": "stream",
     "text": [
      "['#Doltiwal', '#xyzabc', '#Demonetization']\n"
     ]
    }
   ],
   "source": [
    "text=\"\"\"RT @kapil_kausik: #Doltiwal I mean #xyzabc is \"hurt\" by #Demonetization as the same has rendered USELESS <ed><U+00A0><U+00BD><ed><U+00B1><U+0089> \"acquired funds\" No wo\"\"\"\n",
    "pattern=r'#\\w+'\n",
    "result=re.findall(pattern,text)\n",
    "print(result)\n"
   ]
  },
  {
   "cell_type": "markdown",
   "id": "2a76d927",
   "metadata": {},
   "source": [
    "Question 28- Write a python program using RegEx to remove &lt;U+..&gt; like symbols\n",
    "Check the below sample text, there are strange symbols something of the sort &lt;U+..&gt; all over the place.\n",
    "You need to come up with a general Regex expression that will cover all such symbols.\n",
    "Sample Text: &quot;@Jags123456 Bharat band on\n",
    "28??&lt;ed&gt;&lt;U+00A0&gt;&lt;U+00BD&gt;&lt;ed&gt;&lt;U+00B8&gt;&lt;U+0082&gt;Those who are protesting #demonetization are\n",
    "all different party leaders&quot;\n",
    "Expected Output: @Jags123456 Bharat band on 28??&lt;ed&gt;&lt;ed&gt;Those who are protesting\n",
    "#demonetization are all different party leaders"
   ]
  },
  {
   "cell_type": "code",
   "execution_count": 115,
   "id": "0fd85595",
   "metadata": {},
   "outputs": [
    {
     "name": "stdout",
     "output_type": "stream",
     "text": [
      "@Jags123456 Bharat band on 28??<ed>  <ed>  Those who are protesting #demonetization are all different party leaders\n"
     ]
    }
   ],
   "source": [
    "text=\"@Jags123456 Bharat band on 28??<ed><U+00A0><U+00BD><ed><U+00B8><U+0082>Those who are protesting #demonetization are all different party leaders\"\n",
    "pattern=r'<U\\+[0-9A-Fa-f]+>'\n",
    "result=re.sub(pattern,\" \",text)  \n",
    "print(result)\n",
    "\n"
   ]
  },
  {
   "cell_type": "markdown",
   "id": "90c1ee3b",
   "metadata": {},
   "source": [
    "Question 29- Write a python program to extract dates from the text stored in the text file.\n",
    "Sample Text: Ron was born on 12-09-1992 and he was admitted to school 15-12-1999.\n",
    "Note- Store this sample text in the file and then extract dates."
   ]
  },
  {
   "cell_type": "code",
   "execution_count": 116,
   "id": "d58c6976",
   "metadata": {},
   "outputs": [
    {
     "name": "stdout",
     "output_type": "stream",
     "text": [
      "['12-09-1992', '15-12-1999']\n"
     ]
    }
   ],
   "source": [
    "with open(\"myassignment.txt\") as file:\n",
    "    for line in file:\n",
    "        pattern=r'\\d{1,2}[/-]\\d{1,2}[/-]\\d{2,4}|\\d{4}-\\d{2}-\\d{2}'\n",
    "        dates=re.findall(pattern,line)\n",
    "        print(dates)\n",
    "\n",
    "    "
   ]
  },
  {
   "cell_type": "markdown",
   "id": "ec7bda4d",
   "metadata": {},
   "source": [
    "Question 30- Create a function in python to remove all words from a string of length between 2 and\n",
    "4.\n",
    "The use of the re.compile() method is mandatory.\n",
    "Sample Text: &quot;The following example creates an ArrayList with a capacity of 50 elements. 4 elements\n",
    "are then added to the ArrayList and the ArrayList is trimmed accordingly.&quot;\n",
    "Expected Output: following example creates ArrayList a capacity elements. 4 elements added ArrayList\n",
    "ArrayList trimmed accordingly."
   ]
  },
  {
   "cell_type": "code",
   "execution_count": 121,
   "id": "fe54948a",
   "metadata": {},
   "outputs": [
    {
     "data": {
      "text/plain": [
       "' following example creates  ArrayList  a capacity   elements. 4 elements   added   ArrayList   ArrayList  trimmed accordingly.'"
      ]
     },
     "execution_count": 121,
     "metadata": {},
     "output_type": "execute_result"
    }
   ],
   "source": [
    "def remove_words(text):\n",
    "    \n",
    "    pattern = re.compile(r'\\b\\w{2,4}\\b')\n",
    "    \n",
    "    result = pattern.sub('', text)\n",
    "    \n",
    "    return result\n",
    "remove_words(\"The following example creates an ArrayList with a capacity of 50 elements. 4 elements are then added to the ArrayList and the ArrayList is trimmed accordingly.\")\n",
    "\n",
    "\n"
   ]
  }
 ],
 "metadata": {
  "kernelspec": {
   "display_name": "Python 3 (ipykernel)",
   "language": "python",
   "name": "python3"
  },
  "language_info": {
   "codemirror_mode": {
    "name": "ipython",
    "version": 3
   },
   "file_extension": ".py",
   "mimetype": "text/x-python",
   "name": "python",
   "nbconvert_exporter": "python",
   "pygments_lexer": "ipython3",
   "version": "3.10.9"
  }
 },
 "nbformat": 4,
 "nbformat_minor": 5
}
